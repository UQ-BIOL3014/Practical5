{
 "cells": [
  {
   "cell_type": "markdown",
   "metadata": {},
   "source": [
    "IPython notebook created by Mikael Bodén. Material is derived from BIOL3014 Practical 5 (2014).\n",
    "\n",
    "Bug fixes: m.boden@uq.edu.au\n",
    "\n",
    "Source: https://github.com/UQ-BIOL3014/Practical5\n",
    "\n",
    "---"
   ]
  },
  {
   "cell_type": "markdown",
   "metadata": {},
   "source": [
    "# BIOL3014/BINF7000 Practical 5\n",
    "\n",
    "## Analysing ChIP-seq data to understand transcriptional regulation\n",
    "---\n",
    "\n",
    "* **Due:** 11AM 16/09/2015\n",
    "* **Revision:** 1\n",
    "* **Marks:** \n",
    "    * **BIOL3014** - 8 marks. \n",
    "    * **BINF7000** - 12 marks.\n",
    "\n",
    "There are five parts, each with multiple problems to solve. BIOL3014 completes Parts 1-3; BINF7000 completes Parts 1-5.\n",
    "\n",
    "---\n",
    "\n",
    "\n",
    "### Objectives \n",
    "\n",
    "In this practical:\n",
    "* You learn about issues related to processing genome-wide assays and mapping them to a genome reference sequence\n",
    "* You become familiar with a few file formats that are used for storing genome-wide data\n",
    "* You work with epigenetic and transcription factor binding data\n",
    "* You work with transcription factor binding motifs and statistical methods to determine their enrichment in regulatory sequences\n",
    "* You learn practical approaches to understand transcriptional regulation\n",
    "---\n",
    "\n",
    "\n",
    "### Submission requirements\n",
    "\n",
    "Please export this IPython notebook (with written answers & completed code) to `STUDENTNUMBER_P5.ipynb` notebook and submit it via the BlackBoard portal. See the screenshot below:\n",
    "\n",
    "![alt text](export_workbook.png \"Exporting your workbook\")\n",
    "\n",
    "----\n",
    "\n",
    "\n",
    "### Resources\n",
    "\n",
    "#### Python resources:\n",
    "* The UQ Bioinformatics Python Guide (on Blackboard)\n",
    "* The [Python 2 documentation]. For those unfamiliar with Python the [Official tutorial] is recommended\n",
    "* The software carpentry [Novice python lessons]\n",
    "\n",
    "[Python 2 documentation]: https://docs.python.org/2/\n",
    "[Official tutorial]: https://docs.python.org/2/tutorial/index.html\n",
    "[Novice python lessons]: http://swcarpentry.github.io/python-novice-inflammation/\n",
    "\n",
    "####Relevant modules:\n",
    "* `sym.py` References to the DNA alphabet\n",
    "* `seqdata.py` File formats for genome wide data; methods for reading and extracting data\n",
    "* `sequence.py` Biological sequence processing; sequence motifs\n",
    "* `prob.py` Probability distributions\n",
    "* `stats.py` Statistical testing: Fisher's Exact Test, Wilcoxon Ranksum Test\n",
    "* `binomial.py` Statistical testing: Binomial test\n",
    "\n",
    "#### Other:\n",
    "* [IPython Notebook markdown cheatsheet]\n",
    "\n",
    "[IPython Notebook markdown cheatsheet]: https://github.com/adam-p/markdown-here/wiki/Markdown-Here-Cheatsheet#links\n",
    "\n",
    "---"
   ]
  },
  {
   "cell_type": "markdown",
   "metadata": {},
   "source": [
    "## Exercises\n",
    "\n",
    "For all example code to work, make sure you import all required modules. If Python reports an error for the code in the cell below, chances are that you don't have the code you need, or that Python does not find it. If the latter, make sure you set the Python search path *before* you start ipython notebook, e.g.:\n",
    "```\n",
    "PYTHONPATH=/Users/joebloggs/uqbinfpy/uqbinfpy\n",
    "export PYTHONPATH\n",
    "```"
   ]
  },
  {
   "cell_type": "code",
   "execution_count": null,
   "metadata": {
    "collapsed": false
   },
   "outputs": [],
   "source": [
    "import sym      # we are going to make reference to sequence alphabets\n",
    "import sequence # for constructing sequences from genome reference data\n",
    "import seqdata  # for processing genome-wide data\n",
    "import prob     # for motif data\n",
    "import rcdict   # dictionary of DNA sequence, which does not distinguish between strands\n",
    "import stats    # statistics\n",
    "import bionomial# statistics"
   ]
  },
  {
   "cell_type": "markdown",
   "metadata": {},
   "source": [
    "If you have the Python sources in a sub-directory `uqbinfpy` below the directory you specify in your `PYTHONPATH`, do this to import instead."
   ]
  },
  {
   "cell_type": "code",
   "execution_count": null,
   "metadata": {
    "collapsed": true
   },
   "outputs": [],
   "source": [
    "from uqbinfpy import sym      # we are going to make reference to sequence alphabets\n",
    "from uqbinfpy import sequence # for constructing sequences from genome reference data\n",
    "from uqbinfpy import seqdata  # for processing genome-wide data\n",
    "from uqbinfpy import prob     # for motif data\n",
    "from uqbinfpy import rcdict   # dictionary of DNA sequence\n",
    "from uqbinfpy import stats    # statistics\n",
    "from uqbinfpy import bionomial# statistics"
   ]
  },
  {
   "cell_type": "markdown",
   "metadata": {},
   "source": [
    "You will be using Numpy and matplotlib, so those standard libraries need to be imported too. We suggest that you make matplotlib plot its plots \"in-line\" so that visual results are available in the same notebook."
   ]
  },
  {
   "cell_type": "code",
   "execution_count": null,
   "metadata": {
    "collapsed": true
   },
   "outputs": [],
   "source": [
    "import math\n",
    "import numpy as np\n",
    "import matplotlib.pyplot as plt\n",
    "%matplotlib inline"
   ]
  },
  {
   "cell_type": "markdown",
   "metadata": {},
   "source": [
    "---\n",
    "### Part 1 Analysing genome data (3 marks)\n",
    "Complete all exercises in Part 1. You must provide responses to requests highlighted in <span style=\"color:red\">**red**</span>.\n",
    "\n",
    "Before getting to the exercises we need to gain access to and understand three biologically different types of data."
   ]
  },
  {
   "cell_type": "markdown",
   "metadata": {},
   "source": [
    "#### Biological data type I: Genome reference data\n",
    "The portal for the UCSC Genome Browser (http://genome.ucsc.edu) contains the reference sequence and working draft assemblies for a large collection of genomes. We will use the 2009 assembly for human, also referred to as hg19 (see http://hgdownload.soe.ucsc.edu/downloads.html).\n",
    "\n",
    "The human genome is large (3Gb) so we will use a compressed format known as ‘2bit’ where each base is represented by 2 ‘bits’. If you are on campus, download the genome from the local server. Caution: the file is about 800MB. Make sure you save the file in the notebook directory (or remember to reference it by the directory where you put it).\n",
    "\n",
    "http://bioinf.scmb.uq.edu.au/pubsvn/share/hg19.2bit\n",
    "\n",
    "Fire up Python and use the module `seqdata.py` to have a closer look."
   ]
  },
  {
   "cell_type": "code",
   "execution_count": null,
   "metadata": {
    "collapsed": false
   },
   "outputs": [],
   "source": [
    "hg19 = seqdata.TwoBitFile('hg19.2bit')  # assumes that the genome is stored in your current directory\n",
    "for key in hg19:\n",
    "    print key"
   ]
  },
  {
   "cell_type": "markdown",
   "metadata": {},
   "source": [
    "To Python hg19 is a dictionary. The for-loop will show you the main pieces that make up the genome. No prizes for guessing what they correspond to… You can access each chromosome separately, but be careful not to print the actual sequence unless you provide a ‘genome location index’ or ‘range’, as exemplified below. You now have every single base in the human (reference) genome at your fingertips! \n",
    "\n",
    "Try to understand what the following three lines actually mean as you execute them. No need to write it down."
   ]
  },
  {
   "cell_type": "code",
   "execution_count": null,
   "metadata": {
    "collapsed": false
   },
   "outputs": [],
   "source": [
    "hg19['chrX']"
   ]
  },
  {
   "cell_type": "code",
   "execution_count": null,
   "metadata": {
    "collapsed": false
   },
   "outputs": [],
   "source": [
    "len(hg19['chrX'])"
   ]
  },
  {
   "cell_type": "code",
   "execution_count": null,
   "metadata": {
    "collapsed": false
   },
   "outputs": [],
   "source": [
    "hg19['chrX'][1000000:1000060]"
   ]
  },
  {
   "cell_type": "markdown",
   "metadata": {},
   "source": [
    "#### Biological data type II: Gene annotation data\n",
    "\n",
    "Later we will need to know where genes are placed in the human reference genome, in particular where their transcription start sites are located. \n",
    "\n",
    "The UCSC Genome has a ‘Table browser’ (select menu “Tables”, check the appropriate options—default should do it (knownGene), select BED-browser extensible data output format, click “get output”, select “1” bp upstream, and download file. (`hum_TSS.bed` is already in your data directory.) \n",
    "\n",
    "Repeat the download but this time choose 1000 bp upstream, and name the file differently. (`hum_prom.bed` is already in your directory.)\n",
    "\n",
    "Familiarise yourself with the BED format. You can look at the file in a normal text editor. `seqdata.py` has functionality to process the data too. Each entry describes a genomic region. Notice that the most basic entry has three fields, namely *Chromosome*, *start site*, and *end site*. More complicated variants will annotate a region with information."
   ]
  },
  {
   "cell_type": "code",
   "execution_count": null,
   "metadata": {
    "collapsed": false
   },
   "outputs": [],
   "source": [
    "tss = seqdata.BedFile('hum_TSS.bed')\n",
    "print 'The BED file has this many entries:', len(tss)\n",
    "print 'The very first one looks like this:', tss[0]\n",
    "print 'The chromosome is:', tss[0].chrom\n",
    "print 'The start site is:', tss[0].chromStart\n",
    "print 'The end site is:', tss[0].chromEnd\n",
    "print 'The tenth entry looks like this:', tss[9]\n",
    "print 'It is located this many basepairs away from the first:', seqdata.distance(tss[0].loc(), tss[9].loc(), minimum=True)"
   ]
  },
  {
   "cell_type": "markdown",
   "metadata": {},
   "source": [
    "#### Biological data type III: Epigenetic, histone modification data\n",
    "The Encyclopedia of DNA Elements (ENCODE; http://genome.ucsc.edu/ENCODE/) Consortium is an international collaboration of research groups funded by the National Human Genome Research Institute (NHGRI). The goal of ENCODE is to build a comprehensive parts list of functional elements in the human genome, including elements that act at the protein and RNA levels, and regulatory elements that control cells and circumstances in which a gene is active.\n",
    "\n",
    "ChIP-seq has been used extensively by ENCODE to determine where transcription factors bind, and where chromatin modifications and other major protein-DNA binding events occur. \n",
    "\n",
    "Histone-3 Lysine-4 tri-methylation (H3K4me3) is known as an active promoter mark. Histone-3 Lysine-27 acetylation (H3K27ac) is regarded as an enhancer mark. \n",
    "\n",
    "From the ENCODE page, go to and view the glorious Experiment matrix. Continue to the ChIP-seq experiment matrix, and download the ‘broadPeak’ files for the histone modifications. (H3K4me3.broadPeak and H3K27ac.broadPeak are in your directory.)\n",
    "\n",
    "Once the data files are in place, you can use `seqdata.py` to load and use them. For example, you may want to find the H3K4me3 peak that is closests to a specific transcription start site, like so "
   ]
  },
  {
   "cell_type": "code",
   "execution_count": null,
   "metadata": {
    "collapsed": false
   },
   "outputs": [],
   "source": [
    "h3k4me3 = seqdata.BedFile('H3K4me3.broadPeak')\n",
    "print h3k4me3.closest(tss[0])     # tuple with two values: the distance, and the BED entry\n",
    "print h3k4me3.closest(tss[0])[1]  # we look at the BED entry"
   ]
  },
  {
   "cell_type": "code",
   "execution_count": null,
   "metadata": {
    "collapsed": true
   },
   "outputs": [],
   "source": [
    "h3k27ac = seqdata.BedFile('H3K27ac.broadPeak')"
   ]
  },
  {
   "cell_type": "markdown",
   "metadata": {},
   "source": [
    "With your BED files available as lists in Python, you are requested to answer questions a-c.\n",
    "\n",
    "<span style=\"color:red\">a. How many genes in human embryonic stem cells (hESC) are marked with H3K27ac in the first 1000 base pairs upstream of the transcription start site? </span>\n",
    "\n",
    "<span style=\"color:red\">b. What is the expected distance from a H3K4me3 mark and its closest gene? (Produce a mean and a distribution of distances.) </span>\n",
    "\n",
    "<span style=\"color:red\">c. What is the expected distance from a H3K27ac mark? (Produce a mean and a distribution of distances.)</span>\n",
    "\n",
    "Report on your answers in the cells below. Also provide the code to determine and plot the distance distributions. Compare those between H3K4me3 and H3K27ac and confirm that they are displaying what you would expect regarding their associations with promoters and enhancers. (Some example code below, but you may have to do some changes. Note that we log-transform the distances, and avoid log(0) by adding “1” to each distance. We also add a parameter `False` to `closest` to use centre-to-centre distances as opposed to the default “minimal” boundary-to-boundary distances.)"
   ]
  },
  {
   "cell_type": "markdown",
   "metadata": {},
   "source": []
  },
  {
   "cell_type": "code",
   "execution_count": null,
   "metadata": {
    "collapsed": false
   },
   "outputs": [],
   "source": [
    "d_h3k4me3 = []\n",
    "for mark in h3k4me3:\n",
    "    d_h3k4me3.append(math.log10(tss.closest(mark, False)[0]+1))\n",
    "d_h3k27ac = []\n",
    "for mark in h3k27ac:\n",
    "    d_h3k27ac.append(math.log10(tss.closest(mark, False)[0]+1))\n",
    "plt.figure(1, figsize=(8,8))\n",
    "ax = plt.axes([0.1, 0.1, 0.8, 0.8])\n",
    "n, bs, ps = plt.hist(d_h3k27ac, 100, normed=1, color='r', histtype = 'step')\n",
    "n, bs, ps = plt.hist(d_h3k4me3, 100, normed=1, color='g', histtype = 'step')\n",
    "plt.show()"
   ]
  },
  {
   "cell_type": "markdown",
   "metadata": {},
   "source": [
    "---\n",
    "### Part 2 Transcription factor motif enrichment (3 marks)\n",
    "\n",
    "Complete all exercises in Part 2. You must provide responses to requests highlighted in <span style=\"color:red\">**red**</span>.\n",
    "\n",
    "You are now going to analyze some sequence data taken from ChIP-seq data and try to determine what motif describes the direct DNA binding by the transcription factor (TF) that was \"pulled-down\" in the immunoprecipitation experiment. The sequence data you are provided with is the genomic sequence around each of the \"peak\" regions declared by the \"peak-calling\" algorithm. The ultimate mission is to perform a type of \"motif enrichment analysis\" (Part 3)."
   ]
  },
  {
   "cell_type": "markdown",
   "metadata": {},
   "source": [
    "CEBPB is a transcription factor. Construct a FASTA file, containing all the DNA sequences with CEBPB binding sites, so that someone, maybe you, can do transcription factor binding motif discovery with it. \n",
    "\n",
    "Download ChIP-seq data from ENCODE for it in human embryonic stem (ES) cells. (Pick the narrowPeak file, also found in your directory as `CEBPB.narrowPeak`.)"
   ]
  },
  {
   "cell_type": "code",
   "execution_count": null,
   "metadata": {
    "collapsed": false
   },
   "outputs": [],
   "source": [
    "cebpb = seqdata.BedFile('CEBPB.narrowPeak')\n",
    "seqs = []\n",
    "for b in cebpb:\n",
    "    try:\n",
    "        seqstr = hg19[b.chrom][b.chromStart:b.chromEnd]\n",
    "        newseq = sequence.Sequence(seqstr, sym.DNA_Alphabet, str(b))\n",
    "        if len(newseq) >= 200:\n",
    "            seqs.append(newseq)\n",
    "    except:\n",
    "        print 'Failed to map', b.chrom, b.chromStart, b.chromEnd\n",
    "sequence.writeFastaFile('cebpb.fa', seqs)"
   ]
  },
  {
   "cell_type": "markdown",
   "metadata": {},
   "source": [
    "<span style=\"color:red\">a. Is CEBPB more likely to be associated with promoters or enhancers?</span>\n",
    "\n",
    "To answer this, you need to measure distances again, and substantiate your conclusions with plots of distances between CEBPB binding sites and promoter and enhancer associated histone marks. Use the cell below to write the code to answer the question."
   ]
  },
  {
   "cell_type": "code",
   "execution_count": null,
   "metadata": {
    "collapsed": true
   },
   "outputs": [],
   "source": []
  },
  {
   "cell_type": "markdown",
   "metadata": {},
   "source": [
    "Above we extracted from the reference genome a set of sequences, which CEBPB seems to bind to. While this sounds like a motif discovery problem, we may already know what the CEBPB motif looks like. We will therefore look at this as a motif search problem, and establish the statistical enrichment of CEBPB's motif. Specifically, we will investigate at what position the motif occurs. Step one, is to make sure all sequences are the same length around the centre of each peak. \n",
    "\n",
    "<span style=\"color:red\">b. Write the code below to set the variable `seqs200` to be the 200-bp versions of those sequences extracted above. </span>\n",
    "They must be centred at the centre of the original peaks which can vary widely in size."
   ]
  },
  {
   "cell_type": "code",
   "execution_count": null,
   "metadata": {
    "collapsed": true
   },
   "outputs": [],
   "source": [
    "seqs200 = []\n",
    "for seq in seqs:\n",
    "    centre = len(seq) / 2\n",
    "    seqs200.append(sequence.Sequence(seq[centre - 100:centre + 100]))"
   ]
  },
  {
   "cell_type": "markdown",
   "metadata": {},
   "source": [
    "JASPAR contains a large number of transcription factor binding motifs. You can download the whole database directly from their web site at http://jaspar.genereg.net. You can find the database in the notebook directory as `JASPAR_matrices.txt`. You can use `prob.py` to read in each motif as a list of probability distributions (over the DNA alphabet), like so:"
   ]
  },
  {
   "cell_type": "code",
   "execution_count": null,
   "metadata": {
    "collapsed": false
   },
   "outputs": [],
   "source": [
    "d = prob.readMultiCounts('JASPAR_matrices.txt')\n",
    "print 'Just loaded', len(d), 'sequence motifs as a dictionary'"
   ]
  },
  {
   "cell_type": "markdown",
   "metadata": {},
   "source": [
    "CEBPB is called `MA0466.1` in JASPAR. It is believed to have a couple of co-factors, including RUNX1 (called `MA0002.1` in JASPAR) and IRF1 (called `MA0050.2`)."
   ]
  },
  {
   "cell_type": "code",
   "execution_count": null,
   "metadata": {
    "collapsed": true
   },
   "outputs": [],
   "source": [
    "print 'CEBPB is called MA0466.1 in JASPAR'\n",
    "d['MA0466.1']"
   ]
  },
  {
   "cell_type": "code",
   "execution_count": null,
   "metadata": {
    "collapsed": false
   },
   "outputs": [],
   "source": [
    "# This will print all the column-specific distributions\n",
    "for col in d['MA0466.1']:\n",
    "    print col"
   ]
  },
  {
   "cell_type": "code",
   "execution_count": null,
   "metadata": {
    "collapsed": false
   },
   "outputs": [],
   "source": [
    "# It is easy to make the list of distributions into a PWM\n",
    "pwm1 = sequence.PWM(d['MA0466.1'])\n",
    "pwm1.display(format='JASPAR')\n",
    "print\n",
    "# The TF could bind to the reverse strand too\n",
    "pwm2 = pwm1.getRC()\n",
    "pwm2.display(format='JASPAR')"
   ]
  },
  {
   "cell_type": "markdown",
   "metadata": {},
   "source": [
    "ChIP-seq identifies fragments of DNA that the target protein binds to. While those fragments can be of different sizes, on average we expect any trace of binding to be enriched in the centre. To verify that this is the case, we first check that all sequences are the same length."
   ]
  },
  {
   "cell_type": "code",
   "execution_count": null,
   "metadata": {
    "collapsed": false
   },
   "outputs": [],
   "source": [
    "seq_len = len(seqs200[0])\n",
    "for seq in seqs200:\n",
    "    if len(seq) != seq_len:\n",
    "        print 'Error: all sequences must be of the same length, and', seq.name, 'is', len(seq), 'and not', seq_len\n",
    "        break"
   ]
  },
  {
   "cell_type": "markdown",
   "metadata": {},
   "source": [
    "If this turns out to be true (which it should if you managed to solve the problem above), we can determine the average position-specific score over all DNA sequences. The following code will plot those average scores."
   ]
  },
  {
   "cell_type": "code",
   "execution_count": null,
   "metadata": {
    "collapsed": false
   },
   "outputs": [],
   "source": [
    "\"\"\" Produce a plot for the \"average scan\" of the specified motif. \n",
    "    The plot has as its x-axis position of sequence, and \n",
    "    the y-axis the average PWM score over all sequences. \n",
    "    Make sure the following variables are set correctly before running:\n",
    "        seqs200 - all sequences to be scanned, must be same lengths\n",
    "        pwm1 - PWM\n",
    "        pwm2 - PWM reverse strand\n",
    "\"\"\"\n",
    "threshold = 0 # the minimum score for a match\n",
    "seq_len = len(seqs200[0])\n",
    "# initialize things to zero\n",
    "avg_motif_score1 = np.zeros(seq_len)\n",
    "# compute average score at each position (on both strands) in sequences\n",
    "i_seq = 0\n",
    "motif_width = pwm1.length\n",
    "for seq in seqs200:\n",
    "    i_seq += 1\n",
    "    # positive strand\n",
    "    hits = pwm1.search(seq, threshold)\n",
    "    pos_scores = seq_len * [0]\n",
    "    for hit in hits:\n",
    "        # mark hit at *center* of site (hence motif_width/2)\n",
    "        pos_scores[hit[0]+(motif_width/2)] = hit[2]\n",
    "    # negative strand\n",
    "    hits = pwm2.search(seq, threshold)\n",
    "    neg_scores = seq_len * [0]\n",
    "    for hit in hits:\n",
    "        neg_scores[hit[0]+(motif_width/2)] = hit[2]\n",
    "    # for each position use the maximum score of the two strands\n",
    "    for i in range(seq_len):\n",
    "        score = max(pos_scores[i], neg_scores[i])\n",
    "        if (score > threshold):\n",
    "            avg_motif_score1[i] += score\n",
    "# compute average score\n",
    "for i in range(seq_len):\n",
    "    avg_motif_score1[i] /= len(seqs200)\n",
    "# plot the average score curve\n",
    "x = range(-(seq_len/2), (seq_len/2))    # call center of sequence X=0\n",
    "plt.plot(x, avg_motif_score1)\n",
    "plt.axhline(color='black', linestyle='dotted')\n",
    "plt.xlabel('Position')\n",
    "plt.ylabel('Average motif score')\n",
    "plt.show()"
   ]
  },
  {
   "cell_type": "markdown",
   "metadata": {},
   "source": [
    "<span style=\"color:red\">c. Use the same approach to establish if there is a co-factor with CEBPB in human embryonic stem cells.</span> You can start with the two identified above but try to identify other candidates by searching the literature. (Tip: Use PubMed http://www.ncbi.nlm.nih.gov/pubmed/.) Explain what you see in both technical and biological terms. Show a plot in the notebook with all transcription factors that you discuss."
   ]
  },
  {
   "cell_type": "code",
   "execution_count": null,
   "metadata": {
    "collapsed": true
   },
   "outputs": [],
   "source": []
  },
  {
   "cell_type": "markdown",
   "metadata": {},
   "source": [
    "If you are doing *all* parts of this practical (BINF7000), feel free to do Part 4 before continuing with Part 3."
   ]
  },
  {
   "cell_type": "markdown",
   "metadata": {},
   "source": [
    "---\n",
    "###Part 3 Transcription factor enumerative motif discovery (2 marks)\n",
    "\n",
    "We are now going to identify what the motifs are, using an *enumerative* discovery method. Since TF binding sites are relatively short we can actually count the number of times each possible $W$-permutation of the four characters (that make up the DNA alphabet) occurs in regions of interest, where $W$ is the width of the motif. We will refer this $W$-permutations as words.\n",
    "\n",
    "Here's a function that we will need that divides a sequence into all the words found in it."
   ]
  },
  {
   "cell_type": "code",
   "execution_count": null,
   "metadata": {
    "collapsed": true
   },
   "outputs": [],
   "source": [
    "def slidewin(seq, W):\n",
    "    \"\"\" Produce a list of sub-sequences of a given length from a complete sequence \"\"\"\n",
    "    subseqs = []\n",
    "    for i in range(len(seq) - W + 1):\n",
    "        subseqs.append(seq[i : i + W])\n",
    "    return subseqs"
   ]
  },
  {
   "cell_type": "markdown",
   "metadata": {},
   "source": [
    "Let's try it."
   ]
  },
  {
   "cell_type": "code",
   "execution_count": null,
   "metadata": {
    "collapsed": false
   },
   "outputs": [],
   "source": [
    "for word in slidewin('ACGGCCACTATAGTGGCCGT', 8):\n",
    "    print word"
   ]
  },
  {
   "cell_type": "markdown",
   "metadata": {},
   "source": [
    "We have written a Python module `rcdict.py` with a class `RCDict` that is a simple dictionary, which maps a DNA sequence i.e. a word to a count. The only complication is that this class regards the word that appears on both strands as the same, e.g. that 'ACGGCCAC' is the same as 'GTGGCCGT'.\n",
    "\n",
    "<span style=\"color:red\">a. Explain why the answer to running the following code is `3`.</span>"
   ]
  },
  {
   "cell_type": "code",
   "execution_count": null,
   "metadata": {
    "collapsed": false
   },
   "outputs": [],
   "source": [
    "pos = rcdict.RCDict()\n",
    "for word in slidewin('ACGGCCACTACGGTGGCCGT', 4):\n",
    "    try:\n",
    "        pos[word] += 1\n",
    "    except KeyError:\n",
    "        pos[word] = 1\n",
    "print pos['CCGT']"
   ]
  },
  {
   "cell_type": "markdown",
   "metadata": {},
   "source": []
  },
  {
   "cell_type": "markdown",
   "metadata": {},
   "source": [
    "We will now write the code that counts the words at the centre (at the peak) in a set of sequences, like those analysed above. We can define the centre width in any way we like but why not benefit from the analysis above and set it to roughly $50+50=100$."
   ]
  },
  {
   "cell_type": "code",
   "execution_count": null,
   "metadata": {
    "collapsed": false
   },
   "outputs": [],
   "source": [
    "WordWidth = 8\n",
    "PeakWidth = 100\n",
    "\"\"\" Produce a report of enriched words of specified length.\n",
    "    seqs: DNA sequence data\n",
    "    WordWidth: length of sought words\n",
    "    PeakWidth: width of window around centre of sequence\n",
    "\"\"\"\n",
    "pos = rcdict.RCDict() # reverse complement-aware dictionary for DNA\n",
    "for seq in seqs200:\n",
    "    centre = len(seq)/2 # find peak\n",
    "    \"\"\" Construct all words around peak (positives) and count their presence \"\"\"\n",
    "    words = set(slidewin(seq[centre-PeakWidth/2:centre+PeakWidth/2], WordWidth))\n",
    "    for word in words:\n",
    "        try:\n",
    "            pos[word] += 1\n",
    "        except KeyError:\n",
    "            pos[word] = 1\n",
    "\n",
    "allpos = pos.items() # extract all words\n",
    "sortpos = sorted(allpos, key=lambda v: v[1], reverse=True) # sort them\n",
    "print \"Words ranked by count\"\n",
    "print \"Word    \\tCount\"\n",
    "for (word, lgr) in sortpos[0:10]: # Look at the top-entries according to count\n",
    "    cnt_pos = int(pos[word])\n",
    "    print \"%s\\t%d\" % (word, cnt_pos)"
   ]
  },
  {
   "cell_type": "markdown",
   "metadata": {},
   "source": [
    "Take note of three things in particular: (1) This is *not* an alignment. Words can be \"shifted\", i.e. partly overlap, with flanks that do not. (2) The printout does not contain the reverse complement, hence some similarities are seen only after a conversion. (3) There could be more than one distinct site with higher counts.\n",
    "\n",
    "<span style=\"color:red\">b. On the basis of the top ten counts and suggest a sequence motif in the form of a regular expression for the transcription factor, which matches a large *subset* of the ten words.</span> You can do this \"by hand\"."
   ]
  },
  {
   "cell_type": "markdown",
   "metadata": {},
   "source": []
  },
  {
   "cell_type": "markdown",
   "metadata": {},
   "source": [
    "---\n",
    "### Part 4 Statistics of motif enrichment (2 marks; BINF7000 only)\n",
    "For BINF7000, complete all exercises in Part 4. You must provide responses to requests highlighted in <span style=\"color:red\">**bold**</span>."
   ]
  },
  {
   "cell_type": "markdown",
   "metadata": {},
   "source": [
    "The observations in both Part 2 and 3 are rather *qualitative*. We are not sure if they are statistically supported. This section will explore statistics as a means to *quantify* the strength of observations.\n",
    "\n",
    "We are now (over several exercises) going to develop a new method that statistically quantifies the \"enrichment\" of a motif. \n",
    "\n",
    "While there is no need to write down the answers yet, think about the following questions in relation to Part 2: What do we expect the plot of a randomly chosen motif to look like? How can we decide if a plot is \"centred\"? How can we decide which of two motifs has a *more* \"centred\" (i.e. \"narrower\") plot?\n",
    "\n",
    "The (one) answer is to think about a single ChIP-seq peak region.  That is, think about one of the sequences in our input set. \n",
    "\n",
    "i.\tIf you were to scan a single sequence with a \"random\" motif of width $W$, the probability of the best match being at position $X$, when the sequence is $L$ base-pairs long, is $\\frac{1}{L - W + 1}$. The statistical distribution that describes the probability of the best match to the motif being at position $X$ is the uniform distribution.\n",
    "\n",
    "ii.\tIf you scan each of the $N$ sequences with a \"random\" motif, and mark the location of the best match, you would expect (on average) to find \n",
    "$\\frac{N}{L - W + 1}$ matches at position $X$.\n",
    "\n",
    "The statistical distribution that describes the number of matches at position $X$ is called the binomial distribution. You will use it below. See Wikipedia to understand the basics (http://en.wikipedia.org/wiki/Binomial_distribution) before you move on."
   ]
  },
  {
   "cell_type": "markdown",
   "metadata": {
    "collapsed": false
   },
   "source": [
    "We will now develop a new method that counts the *number of times* the best match to the motif occurs at each position $X$; we store this in an array $C[X]$.  To do this, it needs to choose one best match in each sequence.  To do that, for a given sequence, it needs to find the (set of) positions with maximal score, and choose one of them. If a sequence doesn’t have any hits (over the score threshold), nothing gets added to your array of counts.\n",
    "\n",
    "When all of the sequences have been processed, our method divides the counts by the total, position-unspecific count (the total number of sequences that have exactly one hit), the result will be a probability distribution; $P[X]$ is $C[X]$ normalised.  That is, $P[X]$ is the probability of a single sequence having its best hit at position $X$. While it is very similar to the code in Part 2, go through the code in detail and add your own comments to each line.\n",
    "\n",
    "Now run the new method for the CEBPB motif on the CEBPB ChIP-seq data above, using a default threshold of 0 (for counting a score as a \"hit\")."
   ]
  },
  {
   "cell_type": "code",
   "execution_count": null,
   "metadata": {
    "collapsed": false
   },
   "outputs": [],
   "source": [
    "\"\"\" Produce a plot for a scan of the specified motif. \n",
    "    The plot has as its x-axis position of sequence, and \n",
    "    the y-axis the number of sequences with a best hit at position x. \n",
    "    Sequences with no hit above 'threshold' are ignored.\n",
    "    Ties for best hit are broken randomly.\n",
    "\"\"\"\n",
    "import random, operator\n",
    "seed = 1\n",
    "random.seed(seed)\n",
    "threshold = 0 # the minimum score for a match\n",
    "seq_len = len(seqs200[0])\n",
    "# set the random seed for repeatability\n",
    "# initialize things to zero\n",
    "C = np.zeros(seq_len)\n",
    "n_seqs_with_hits = 0.0\n",
    "# Scan each sequence for all hits on both strands and record\n",
    "# the number of \"best hits\" at each sequence position.\n",
    "motif_width = pwm1.length\n",
    "i_seq = 0\n",
    "for seq in seqs200:\n",
    "    i_seq += 1\n",
    "    # scan with both motifs\n",
    "    hits = pwm1.search(seq, threshold) + pwm2.search(seq, threshold)\n",
    "    # Record position of best hit\n",
    "    if (hits):\n",
    "        n_seqs_with_hits += 1\n",
    "        # find best hit score\n",
    "        best_score = max(hits, key=operator.itemgetter(1))[2]\n",
    "        # find ties\n",
    "        best_hits = [ hit for hit in hits if hit[2] == best_score ]\n",
    "        # break ties at random\n",
    "        best_hit = random.choice(best_hits)\n",
    "        # mark hit at *center* of site (hence pwm1.length/2)\n",
    "        C[best_hit[0] + pwm1.length/2] += 1\n",
    "# divide number of sequences with hit by total number of hits\n",
    "P = [ (cnt/n_seqs_with_hits) for cnt in C ]\n",
    "x = range(-(seq_len/2), (seq_len/2))        # call center of sequence X=0\n",
    "plt.plot(x, P)\n",
    "plt.axhline(color='black', linestyle='dotted')\n",
    "plt.legend(loc='best')\n",
    "plt.xlabel('Position')\n",
    "plt.ylabel('Probability')\n",
    "plt.title('Best site (threshold = ' + str(threshold) + ')')\n",
    "plt.show()"
   ]
  },
  {
   "cell_type": "markdown",
   "metadata": {},
   "source": [
    "<span style=\"color:red\">a. Explain how this plot differs both visually and conceptually from the plot you produced in Part 2.</span> Tip: try a couple of other motifs and see how they change too.\n",
    "\n",
    "The expectation is that a responsible binding event appears down the middle of the peak. Assuming that you have collected $C[X]$ above, the next bit of code tests if the motif is statistically supported as \"centrally enriched\". Intuitively the *radius* $r$ of that centre should be small, but we have to accommodate some imprecision and noise. Here's some code that calculates the significance of central enrichment for $r=1$ (the centre position plus one on each side). Try a few values of $r$ to see how the calculations change for the $C[X]$ that you calculated above."
   ]
  },
  {
   "cell_type": "code",
   "execution_count": null,
   "metadata": {
    "collapsed": false
   },
   "outputs": [],
   "source": [
    "centre = seq_len/2     # centre of sequence\n",
    "successes = C[centre]  # counts of hits in the middle position\n",
    "r = 1\n",
    "for i in range(1, r + 1): # move one position at a time\n",
    "    successes +=  + C[centre - i] + C[centre + i] # include the two positions at the perimeter of the radius\n",
    "print 'The centre contains', successes, 'hits (successes)'\n",
    "trials = n_seqs_with_hits\n",
    "print 'from', trials, 'attempts (trials)'\n",
    "print 'Which means that the probability of success is', successes / trials\n",
    "w = 2 * r + 1 # size of window\n",
    "n_scored = (seq_len - pwm1.length/2 + 1.0) # number of positions that have been scored\n",
    "p_success = w / n_scored\n",
    "print 'The expected probability of success is', p_success\n",
    "log_pvalue = binomial.log_binomial_ncdf(trials, successes, p_success);\n",
    "print 'According to the Binomial test that difference (or greater) has a cumulative probability', math.exp(log_pvalue), 'of occurring'"
   ]
  },
  {
   "cell_type": "markdown",
   "metadata": {},
   "source": [
    "<span style=\"color:red\">b. Write the code below to find the best value for $r$ scanning over all possible values (from 0 to half the length of the sequence), i.e. the value that results in the smallest motif enrichment $p$-value.</span>"
   ]
  },
  {
   "cell_type": "code",
   "execution_count": null,
   "metadata": {
    "collapsed": false
   },
   "outputs": [],
   "source": []
  },
  {
   "cell_type": "markdown",
   "metadata": {},
   "source": [
    "---\n",
    "### Part 5 Statistics of enumerative motif discovery (2 marks; BINF7000 only)\n",
    "For BINF7000, complete all exercises in Part 5. You must provide responses to requests highlighted in <span style=\"color:red\">**bold**</span>."
   ]
  },
  {
   "cell_type": "markdown",
   "metadata": {
    "collapsed": false
   },
   "source": [
    "Our motif discovery method above (Part 3) has a couple of issues.\n",
    "\n",
    "First, biological sequences are *not* uniform. Indeed some motifs may occur more often for no interesting reason. So, for motif discovery it is important to use a background--but you already knew that.\n",
    "\n",
    "Second, the motif should *preferentially* occur in the centre of the sequence. Above, we counted everything up until a boundary was reached.\n",
    "\n",
    "We will now write code that kills both birds with one stone. Everything *inside* a radius of the centre is \"foreground\"; everything *outside* is \"background\"."
   ]
  },
  {
   "cell_type": "code",
   "execution_count": null,
   "metadata": {
    "collapsed": false
   },
   "outputs": [],
   "source": [
    "WordWidth = 8\n",
    "PeakWidth = 100\n",
    "PeakMargin = 10\n",
    "\"\"\" Produce a report of enriched words of specified length.\n",
    "    seqs: DNA sequence data\n",
    "    WordWidth: length of sought words\n",
    "    PeakWidth: width of window around centre of sequence\n",
    "    PeakMargin: the width of the margin on each side of the centre window\n",
    "    (which delineates the positives around peak from negatives away from peak). \n",
    "    \"\"\"\n",
    "pos = rcdict.RCDict() # reverse complement-aware dictionary for DNA\n",
    "neg = rcdict.RCDict() # reverse complement-aware dictionary for DNA\n",
    "for seq in seqs200:\n",
    "    centre = len(seq)/2 # find peak\n",
    "    \"\"\" Construct all words around peak (positives) and count their presence \"\"\"\n",
    "    words = set(slidewin(seq[centre-PeakWidth/2:centre+PeakWidth/2], WordWidth))\n",
    "    for word in words:\n",
    "        try:\n",
    "            pos[word] += 1\n",
    "        except KeyError:\n",
    "            pos[word] = 1\n",
    "    \"\"\" Construct all words away from peak (negatives) and count \"\"\"\n",
    "    words = set(slidewin(seq[:centre-PeakWidth/2-PeakMargin], WordWidth))\n",
    "    words.union(slidewin(seq[centre+PeakWidth/2+PeakMargin:], WordWidth))\n",
    "    for word in words:\n",
    "        try:\n",
    "            neg[word] += 1\n",
    "        except KeyError:\n",
    "            neg[word] = 1"
   ]
  },
  {
   "cell_type": "markdown",
   "metadata": {},
   "source": [
    "In essence, we are simply counting words in the background and keeping those counts in a separate `RCDict` instance.\n",
    "Next, for each word we calculate the log ratio between its count in the foreground and its count in the background. Big values are of course an indication of domination of the *inside* counts."
   ]
  },
  {
   "cell_type": "code",
   "execution_count": null,
   "metadata": {
    "collapsed": false
   },
   "outputs": [],
   "source": [
    "logratio = rcdict.RCDict() # DNA dictionary for storing the log-ratio between pos and neg\n",
    "for (word, cnt_pos) in pos.items():\n",
    "    cnt_neg = 0.0001\n",
    "    try:\n",
    "        cnt_neg = neg[word]\n",
    "    except KeyError:\n",
    "        pass\n",
    "    logratio[word] = math.log(float(cnt_pos) / float(cnt_neg))\n",
    "allpos = logratio.items() # extract all pairs of words:log-ratio\n",
    "sortpos = sorted(allpos, key=lambda v: v[1], reverse=True) # sort them"
   ]
  },
  {
   "cell_type": "markdown",
   "metadata": {},
   "source": [
    "Finally, we make the statistical evaluation. We ask: are these counts so different that in less than 5% of trials chance can explain the outcome?"
   ]
  },
  {
   "cell_type": "code",
   "execution_count": null,
   "metadata": {
    "collapsed": false
   },
   "outputs": [],
   "source": [
    "print \"Enriched words (sorted by ln pos/neg)\"\n",
    "print \"Word    \\tln pos/neg\\tE-value\"\n",
    "for (word, lgr) in sortpos[0:10]: # Look at the top-entries according to log-ratio, compute p-values\n",
    "    cnt_pos = int(pos[word])\n",
    "    try: cnt_neg = int(neg[word])\n",
    "    except KeyError: cnt_neg = 0 \n",
    "    # Compute p-value using Fisher's Exact test\n",
    "    pval = stats.getFETpval(cnt_pos, cnt_neg, len(seqs) * (PeakWidth - WordWidth + 1) - cnt_pos, len(seqs) * (len(seq) - (PeakMargin * 2 + PeakWidth) - (WordWidth - 1) * 2) - cnt_neg, False)\n",
    "    if pval <= 0.05:\n",
    "        print \"%s\\t%6.3f  \\t%e\" % (word, lgr, pval)"
   ]
  },
  {
   "cell_type": "markdown",
   "metadata": {
    "collapsed": true
   },
   "source": [
    "<span style=\"color:red\">\n",
    "Add code to the method above to correct for multiple testing. Then respond to the following problems in the cell below.</span>\n",
    "\n",
    "i. In the table you should now print the E-value of each enriched word. When correcting, make sure that you consider the actual number of tests that were run.\n",
    "\n",
    "ii. Generate plots for at least three transcription factors, including CEBPB, and include them here, with labels that indicate their central enrichment E-values.\n",
    "\n",
    "iii. In relation to your results for CEBPB in Part 3, are the words the same or different? Try to rationalise any similarities or differences."
   ]
  },
  {
   "cell_type": "markdown",
   "metadata": {},
   "source": []
  },
  {
   "cell_type": "code",
   "execution_count": null,
   "metadata": {
    "collapsed": true
   },
   "outputs": [],
   "source": []
  }
 ],
 "metadata": {
  "kernelspec": {
   "display_name": "Python 2",
   "language": "python",
   "name": "python2"
  },
  "language_info": {
   "codemirror_mode": {
    "name": "ipython",
    "version": 2
   },
   "file_extension": ".py",
   "mimetype": "text/x-python",
   "name": "python",
   "nbconvert_exporter": "python",
   "pygments_lexer": "ipython2",
   "version": "2.7.6"
  }
 },
 "nbformat": 4,
 "nbformat_minor": 0
}
